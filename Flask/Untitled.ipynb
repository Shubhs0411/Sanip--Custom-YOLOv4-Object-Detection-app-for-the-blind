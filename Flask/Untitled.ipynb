{
 "cells": [
  {
   "cell_type": "code",
   "execution_count": 3,
   "metadata": {},
   "outputs": [
    {
     "ename": "error",
     "evalue": "OpenCV(4.4.0) C:\\Users\\appveyor\\AppData\\Local\\Temp\\1\\pip-req-build-2b5g8ysb\\opencv\\modules\\dnn\\src\\darknet\\darknet_importer.cpp:214: error: (-212:Parsing error) Failed to parse NetParameter file: C:\\Users\\hp\\Desktop\\Final_OD\\yolov4-obj_3000.weights in function 'cv::dnn::dnn4_v20200609::readNetFromDarknet'\n",
     "output_type": "error",
     "traceback": [
      "\u001b[1;31m---------------------------------------------------------------------------\u001b[0m",
      "\u001b[1;31merror\u001b[0m                                     Traceback (most recent call last)",
      "\u001b[1;32m<ipython-input-3-717f517102b6>\u001b[0m in \u001b[0;36m<module>\u001b[1;34m\u001b[0m\n\u001b[0;32m     20\u001b[0m \u001b[0mmodelConfiguration\u001b[0m \u001b[1;33m=\u001b[0m \u001b[1;34mr\"C:\\Users\\hp\\Desktop\\Final_OD\\yolov4-obj.cfg\"\u001b[0m\u001b[1;33m\u001b[0m\u001b[1;33m\u001b[0m\u001b[0m\n\u001b[0;32m     21\u001b[0m \u001b[0mmodelWeights\u001b[0m \u001b[1;33m=\u001b[0m \u001b[1;34mr\"C:\\Users\\hp\\Desktop\\Final_OD\\yolov4-obj_3000.weights\"\u001b[0m\u001b[1;33m\u001b[0m\u001b[1;33m\u001b[0m\u001b[0m\n\u001b[1;32m---> 22\u001b[1;33m \u001b[0mnet\u001b[0m \u001b[1;33m=\u001b[0m \u001b[0mcv\u001b[0m\u001b[1;33m.\u001b[0m\u001b[0mdnn\u001b[0m\u001b[1;33m.\u001b[0m\u001b[0mreadNetFromDarknet\u001b[0m\u001b[1;33m(\u001b[0m\u001b[0mmodelConfiguration\u001b[0m\u001b[1;33m,\u001b[0m \u001b[0mmodelWeights\u001b[0m\u001b[1;33m)\u001b[0m\u001b[1;33m\u001b[0m\u001b[1;33m\u001b[0m\u001b[0m\n\u001b[0m\u001b[0;32m     23\u001b[0m \u001b[0mnet\u001b[0m\u001b[1;33m.\u001b[0m\u001b[0msetPreferableBackend\u001b[0m\u001b[1;33m(\u001b[0m\u001b[0mcv\u001b[0m\u001b[1;33m.\u001b[0m\u001b[0mdnn\u001b[0m\u001b[1;33m.\u001b[0m\u001b[0mDNN_BACKEND_OPENCV\u001b[0m\u001b[1;33m)\u001b[0m\u001b[1;33m\u001b[0m\u001b[1;33m\u001b[0m\u001b[0m\n\u001b[0;32m     24\u001b[0m \u001b[0mnet\u001b[0m\u001b[1;33m.\u001b[0m\u001b[0msetPreferableTarget\u001b[0m\u001b[1;33m(\u001b[0m\u001b[0mcv\u001b[0m\u001b[1;33m.\u001b[0m\u001b[0mdnn\u001b[0m\u001b[1;33m.\u001b[0m\u001b[0mDNN_TARGET_CPU\u001b[0m\u001b[1;33m)\u001b[0m\u001b[1;33m\u001b[0m\u001b[1;33m\u001b[0m\u001b[0m\n",
      "\u001b[1;31merror\u001b[0m: OpenCV(4.4.0) C:\\Users\\appveyor\\AppData\\Local\\Temp\\1\\pip-req-build-2b5g8ysb\\opencv\\modules\\dnn\\src\\darknet\\darknet_importer.cpp:214: error: (-212:Parsing error) Failed to parse NetParameter file: C:\\Users\\hp\\Desktop\\Final_OD\\yolov4-obj_3000.weights in function 'cv::dnn::dnn4_v20200609::readNetFromDarknet'\n"
     ]
    }
   ],
   "source": [
    "from flask import Flask\n",
    "import flask\n",
    "import cv2 as cv\n",
    "import numpy as np\n",
    "import pyttsx3\n",
    "\n",
    "app = Flask(__name__)\n",
    "\n",
    "whT = 320\n",
    "confThreshold =0.5\n",
    "nmsThreshold= 0.2\n",
    "#### LOAD MODEL\n",
    "## Coco Names\n",
    "classesFile = r\"C:\\Users\\hp\\Desktop\\Final_OD\\classes.names\"\n",
    "classNames = []\n",
    "with open(classesFile, 'rt') as f:\n",
    "    classNames = f.read().rstrip('\\n').split('\\n')\n",
    "#print(classNames)\n",
    "## Model Files\n",
    "modelConfiguration = r\"C:\\Users\\hp\\Desktop\\Final_OD\\yolov4-obj.cfg\"\n",
    "modelWeights = r\"C:\\Users\\hp\\Desktop\\Final_OD\\yolov4-obj_3000.weights\"\n",
    "net = cv.dnn.readNetFromDarknet(modelConfiguration, modelWeights)\n",
    "net.setPreferableBackend(cv.dnn.DNN_BACKEND_OPENCV)\n",
    "net.setPreferableTarget(cv.dnn.DNN_TARGET_CPU)\n",
    "\n",
    "def most_frequent(List):\n",
    "\treturn max(set(List), key = List.count)\n",
    "\n",
    "def findObjects(outputs,img):\n",
    "    hT, wT, cT = img.shape\n",
    "    bbox = []\n",
    "    classIds = []\n",
    "    confs = []\n",
    "    for output in outputs:\n",
    "        for det in output:\n",
    "            scores = det[5:]\n",
    "            classId = np.argmax(scores)\n",
    "            confidence = scores[classId]\n",
    "            if confidence > confThreshold:\n",
    "                #w,h = int(det[2]*wT) , int(det[3]*hT)\n",
    "                #x,y = int((det[0]*wT)-w/2) , int((det[1]*hT)-h/2)\n",
    "                #bbox.append([x,y,w,h])\n",
    "                classIds.append(classId)\n",
    "                confs.append(float(confidence))\n",
    "    if len(classIds) == 0:\n",
    "        return \"No object detected\"\n",
    "    else:\n",
    "        returnvalue = most_frequent(classIds)\n",
    "        return returnvalue\n",
    "\n",
    "@app.route(\"/web\",methods=[\"GET\",\"POST\"])\n",
    "def hello1():\n",
    "\treturn flask.render_template('submit.html')\n",
    "\n",
    "\n",
    "@app.route(\"/api\",methods=[\"GET\",\"POST\"])\n",
    "def hello2():\n",
    "\timg = flask.request.files[\"data_file\"].read()\n",
    "\timg = np.frombuffer(img, np.uint8)\n",
    "\t# convert numpy array to image\n",
    "\timg = cv.imdecode(img,cv.IMREAD_COLOR)\n",
    "\tblob = cv.dnn.blobFromImage(img, 1 / 255, (whT, whT), [0, 0, 0], 1, crop=False)\n",
    "\tnet.setInput(blob)\n",
    "\tlayersNames = net.getLayerNames()\n",
    "\toutputNames = [(layersNames[i[0] - 1]) for i in net.getUnconnectedOutLayers()]\n",
    "\toutputs = net.forward(outputNames)\n",
    "\tobjdetected = findObjects(outputs,img)\n",
    "\tif objdetected == \"No object detected\":\n",
    "\t\treturn objdetected\n",
    "\tobjdetected = str(classNames[objdetected])\n",
    "\treturn str(objdetected)\n",
    "\n",
    "if __name__ == \"__main__\":\n",
    "\tapp.run()\n",
    "#\n"
   ]
  },
  {
   "cell_type": "code",
   "execution_count": null,
   "metadata": {},
   "outputs": [],
   "source": []
  }
 ],
 "metadata": {
  "kernelspec": {
   "display_name": "Python 3",
   "language": "python",
   "name": "python3"
  },
  "language_info": {
   "codemirror_mode": {
    "name": "ipython",
    "version": 3
   },
   "file_extension": ".py",
   "mimetype": "text/x-python",
   "name": "python",
   "nbconvert_exporter": "python",
   "pygments_lexer": "ipython3",
   "version": "3.7.3"
  }
 },
 "nbformat": 4,
 "nbformat_minor": 2
}
